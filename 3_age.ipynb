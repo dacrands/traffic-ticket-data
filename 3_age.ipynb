{
 "cells": [
  {
   "cell_type": "markdown",
   "metadata": {},
   "source": [
    "# Age\n",
    "---\n",
    "\n",
    "- [Traffic Violations by Age](#Traffic-Violations-by-Age)\n",
    "- [Senior Citizens](#Senior-Citizens)\n",
    "    - [Senior Citizens in New York](#Senior-citizens-in-New-York)"
   ]
  },
  {
   "cell_type": "code",
   "execution_count": 1,
   "metadata": {
    "collapsed": false
   },
   "outputs": [],
   "source": [
    "import pandas as pd\n",
    "import numpy as np\n",
    "import matplotlib.pyplot as plt\n",
    "\n",
    "%matplotlib inline"
   ]
  },
  {
   "cell_type": "code",
   "execution_count": 2,
   "metadata": {
    "collapsed": false
   },
   "outputs": [
    {
     "data": {
      "text/plain": [
       "'5,929,615 traffic tickets'"
      ]
     },
     "execution_count": 2,
     "metadata": {},
     "output_type": "execute_result"
    }
   ],
   "source": [
    "traffic_tickets = pd.read_pickle(\"clean_data.pkl\")\n",
    "\n",
    "\"{:,} traffic tickets\".format(len(traffic_tickets))"
   ]
  },
  {
   "cell_type": "code",
   "execution_count": 3,
   "metadata": {
    "collapsed": false
   },
   "outputs": [
    {
     "data": {
      "text/plain": [
       "count    5929615.000000\n",
       "mean          36.699318\n",
       "std           13.904331\n",
       "min           16.000000\n",
       "25%           25.000000\n",
       "50%           34.000000\n",
       "75%           47.000000\n",
       "max           95.000000\n",
       "Name: Age, dtype: object"
      ]
     },
     "execution_count": 3,
     "metadata": {},
     "output_type": "execute_result"
    }
   ],
   "source": [
    "traffic_tickets.Age.describe().apply(lambda x: format(x, 'f'))"
   ]
  },
  {
   "cell_type": "code",
   "execution_count": 4,
   "metadata": {
    "collapsed": false
   },
   "outputs": [
    {
     "data": {
      "text/plain": [
       "34.0"
      ]
     },
     "execution_count": 4,
     "metadata": {},
     "output_type": "execute_result"
    }
   ],
   "source": [
    "traffic_tickets.Age.median()"
   ]
  },
  {
   "cell_type": "code",
   "execution_count": 5,
   "metadata": {
    "collapsed": false
   },
   "outputs": [
    {
     "data": {
      "text/plain": [
       "0    24.0\n",
       "dtype: float64"
      ]
     },
     "execution_count": 5,
     "metadata": {},
     "output_type": "execute_result"
    }
   ],
   "source": [
    "traffic_tickets.Age.mode()"
   ]
  },
  {
   "cell_type": "code",
   "execution_count": 6,
   "metadata": {
    "collapsed": false,
    "scrolled": true
   },
   "outputs": [
    {
     "data": {
      "image/png": "[encoded data removed]",
      "text/plain": [
       "<matplotlib.figure.Figure at 0x239515bbeb8>"
      ]
     },
     "metadata": {},
     "output_type": "display_data"
    }
   ],
   "source": [
    "plt.hist(\n",
    "    traffic_tickets.Age, \n",
    "    bins=np.arange(15, 100, 5), \n",
    "    color=\"royalblue\", \n",
    "    edgecolor=\"b\"\n",
    ")\n",
    "plt.title(\"Traffic Ticket Age Distribution\")\n",
    "plt.xlabel(\"Age\")\n",
    "plt.ylabel(\"Frequency\")\n",
    "plt.axes().set_xticks(np.arange(15, 100, 5))\n",
    "\n",
    "plt.savefig(\"age-dist.svg\", bbox_inches=\"tight\", pad_inches=0.2, dpi=100)"
   ]
  },
  {
   "cell_type": "markdown",
   "metadata": {
    "collapsed": true
   },
   "source": [
    "## Senior Citizens"
   ]
  },
  {
   "cell_type": "code",
   "execution_count": 7,
   "metadata": {
    "collapsed": true
   },
   "outputs": [],
   "source": [
    "senior_tickets = traffic_tickets[traffic_tickets.Age >= 65]"
   ]
  },
  {
   "cell_type": "code",
   "execution_count": 8,
   "metadata": {
    "collapsed": false
   },
   "outputs": [
    {
     "data": {
      "text/html": [
       "<div>\n",
       "<style>\n",
       "    .dataframe thead tr:only-child th {\n",
       "        text-align: right;\n",
       "    }\n",
       "\n",
       "    .dataframe thead th {\n",
       "        text-align: left;\n",
       "    }\n",
       "\n",
       "    .dataframe tbody tr th {\n",
       "        vertical-align: top;\n",
       "    }\n",
       "</style>\n",
       "<table border=\"1\" class=\"dataframe\">\n",
       "  <thead>\n",
       "    <tr style=\"text-align: right;\">\n",
       "      <th></th>\n",
       "      <th>Year</th>\n",
       "      <th>Month</th>\n",
       "      <th>Age</th>\n",
       "    </tr>\n",
       "  </thead>\n",
       "  <tbody>\n",
       "    <tr>\n",
       "      <th>count</th>\n",
       "      <td>215351.000000</td>\n",
       "      <td>215351.000000</td>\n",
       "      <td>215351.000000</td>\n",
       "    </tr>\n",
       "    <tr>\n",
       "      <th>mean</th>\n",
       "      <td>2015.523907</td>\n",
       "      <td>6.496603</td>\n",
       "      <td>70.443313</td>\n",
       "    </tr>\n",
       "    <tr>\n",
       "      <th>std</th>\n",
       "      <td>1.126181</td>\n",
       "      <td>3.306492</td>\n",
       "      <td>5.274482</td>\n",
       "    </tr>\n",
       "    <tr>\n",
       "      <th>min</th>\n",
       "      <td>2014.000000</td>\n",
       "      <td>1.000000</td>\n",
       "      <td>65.000000</td>\n",
       "    </tr>\n",
       "    <tr>\n",
       "      <th>25%</th>\n",
       "      <td>2015.000000</td>\n",
       "      <td>4.000000</td>\n",
       "      <td>66.000000</td>\n",
       "    </tr>\n",
       "    <tr>\n",
       "      <th>50%</th>\n",
       "      <td>2016.000000</td>\n",
       "      <td>6.000000</td>\n",
       "      <td>69.000000</td>\n",
       "    </tr>\n",
       "    <tr>\n",
       "      <th>75%</th>\n",
       "      <td>2017.000000</td>\n",
       "      <td>9.000000</td>\n",
       "      <td>73.000000</td>\n",
       "    </tr>\n",
       "    <tr>\n",
       "      <th>max</th>\n",
       "      <td>2017.000000</td>\n",
       "      <td>12.000000</td>\n",
       "      <td>95.000000</td>\n",
       "    </tr>\n",
       "  </tbody>\n",
       "</table>\n",
       "</div>"
      ],
      "text/plain": [
       "                Year          Month            Age\n",
       "count  215351.000000  215351.000000  215351.000000\n",
       "mean     2015.523907       6.496603      70.443313\n",
       "std         1.126181       3.306492       5.274482\n",
       "min      2014.000000       1.000000      65.000000\n",
       "25%      2015.000000       4.000000      66.000000\n",
       "50%      2016.000000       6.000000      69.000000\n",
       "75%      2017.000000       9.000000      73.000000\n",
       "max      2017.000000      12.000000      95.000000"
      ]
     },
     "execution_count": 8,
     "metadata": {},
     "output_type": "execute_result"
    }
   ],
   "source": [
    "senior_tickets.describe()"
   ]
  },
  {
   "cell_type": "code",
   "execution_count": 9,
   "metadata": {
    "collapsed": true
   },
   "outputs": [],
   "source": [
    "top_10_senior_violations = senior_tickets.Violation.value_counts()[:10]"
   ]
  },
  {
   "cell_type": "code",
   "execution_count": 10,
   "metadata": {
    "collapsed": false
   },
   "outputs": [
    {
     "data": {
      "image/png": "[encoded data removed]",
      "text/plain": [
       "<matplotlib.figure.Figure at 0x239515bb710>"
      ]
     },
     "metadata": {},
     "output_type": "display_data"
    }
   ],
   "source": [
    "ax = top_10_senior_violations.plot(\n",
    "    figsize=(7,7),\n",
    "    kind=\"barh\",     \n",
    "    title=\"Senior Citizen Traffic Tickets\",     \n",
    "    color=\"royalblue\")\n",
    "ax.set_xlim(0, 35000)\n",
    "ax.invert_yaxis()\n",
    "\n",
    "for i, v in enumerate(top_10_senior_violations):\n",
    "    plt.text(v, i+.05, '{:,}'.format(v))"
   ]
  },
  {
   "cell_type": "markdown",
   "metadata": {},
   "source": [
    "## Senior-citizens in New York"
   ]
  },
  {
   "cell_type": "code",
   "execution_count": 11,
   "metadata": {
    "collapsed": false
   },
   "outputs": [
    {
     "name": "stdout",
     "output_type": "stream",
     "text": [
      "Total Senior Tickets: 215,351 \n",
      "     \r",
      "Total NY Senior Tickets: 186,142 \n",
      "     \r",
      "Senior Tickets Outside NY: 29,209 \n",
      "\n",
      "86.44% of senior-citizens ticketed between 2014 and 2017 have New York licenses.\n"
     ]
    }
   ],
   "source": [
    "total_senior_tickets = len(senior_tickets)\n",
    "total_ny_senior_tickets = senior_tickets.StateOfLicense.value_counts()['NEW YORK']\n",
    "\n",
    "print(\"Total Senior Tickets: {0:,} \\n \\\n",
    "    \\rTotal NY Senior Tickets: {1:,} \\n \\\n",
    "    \\rSenior Tickets Outside NY: {2:,} \\n\".format(\n",
    "    total_senior_tickets,\n",
    "    total_ny_senior_tickets,\n",
    "    total_senior_tickets - total_ny_senior_tickets\n",
    "))\n",
    "\n",
    "print(\"{0}% of senior-citizens ticketed between 2014 and 2017 have New York licenses.\".format(\n",
    "    round(total_ny_senior_tickets / total_senior_tickets * 100, 2)\n",
    "))"
   ]
  },
  {
   "cell_type": "code",
   "execution_count": 12,
   "metadata": {
    "collapsed": false
   },
   "outputs": [
    {
     "data": {
      "text/plain": [
       "186142"
      ]
     },
     "execution_count": 12,
     "metadata": {},
     "output_type": "execute_result"
    }
   ],
   "source": [
    "ny_senior_tickets = senior_tickets[senior_tickets.StateOfLicense == 'NEW YORK']\n",
    "\n",
    "len(ny_senior_tickets)"
   ]
  },
  {
   "cell_type": "code",
   "execution_count": 13,
   "metadata": {
    "collapsed": false
   },
   "outputs": [
    {
     "data": {
      "text/plain": [
       "NYC POLICE DEPT                   51640\n",
       "SUFFOLK COUNTY POLICE DEPT         3866\n",
       "BUFFALO POLICE DEPT                2576\n",
       "AMHERST TOWN POLICE DEPT           2423\n",
       "NASSAU COUNTY POLICE DEPT          2254\n",
       "GREAT NECK ESTATES POLICE DEPT     1794\n",
       "FREEPORT VILLAGE POLICE DEPT       1723\n",
       "TROOP G HQTRS STATE POLICE         1682\n",
       "HARRISON POLICE DEPT               1609\n",
       "BATAVIA STATE POLICE               1511\n",
       "HAMBURG TOWN POLICE DEPT           1491\n",
       "CANANDAIGUA STATE POLICE           1404\n",
       "ERIE COUNTY SHERIFF                1377\n",
       "CLAVERACK STATE POLICE             1239\n",
       "BUFFALO TWAY STATE POLICE          1203\n",
       "MONROE COUNTY SHERIFF              1183\n",
       "ALBANY TWAY STATE POLICE           1176\n",
       "PAINTED POST STATE POLICE          1145\n",
       "GREENBURGH TOWN POLICE DEPT        1105\n",
       "CHEEKTOWAGA POLICE DEPT            1087\n",
       "Name: PoliceAgency, dtype: int64"
      ]
     },
     "execution_count": 13,
     "metadata": {},
     "output_type": "execute_result"
    }
   ],
   "source": [
    "top_ny_senior_ticketers = ny_senior_tickets.PoliceAgency.value_counts()[:20]\n",
    "\n",
    "top_ny_senior_ticketers"
   ]
  },
  {
   "cell_type": "code",
   "execution_count": 14,
   "metadata": {
    "collapsed": false
   },
   "outputs": [
    {
     "data": {
      "image/png": "[encoded data removed]",
      "text/plain": [
       "<matplotlib.figure.Figure at 0x239515bb048>"
      ]
     },
     "metadata": {},
     "output_type": "display_data"
    }
   ],
   "source": [
    "ax = top_ny_senior_ticketers.plot(\n",
    "    kind=\"barh\", \n",
    "    figsize=(4,8), \n",
    "    width=0.8,\n",
    "    grid=True\n",
    ")\n",
    "\n",
    "ax.invert_yaxis()\n"
   ]
  },
  {
   "cell_type": "code",
   "execution_count": 15,
   "metadata": {
    "collapsed": false
   },
   "outputs": [
    {
     "data": {
      "text/plain": [
       "51640"
      ]
     },
     "execution_count": 15,
     "metadata": {},
     "output_type": "execute_result"
    }
   ],
   "source": [
    "nyc_senior_tickets = ny_senior_tickets[ny_senior_tickets.PoliceAgency == \"NYC POLICE DEPT\"]\n",
    "\n",
    "len(nyc_senior_tickets)"
   ]
  },
  {
   "cell_type": "code",
   "execution_count": 16,
   "metadata": {
    "collapsed": false
   },
   "outputs": [
    {
     "data": {
      "text/plain": [
       "DISOBEYED TRAFFIC DEVICE             8268\n",
       "NO LAP/SHOULDER HARNESS OR DJ VIO    5886\n",
       "OPERATING MV MOBILE PHONE            4685\n",
       "SPEED IN ZONE 11-30                  4654\n",
       "FLD YIELD PEDEST NYC                 3355\n",
       "NYC REDLIGHT                         2353\n",
       "FLD TO STOP AT STOP SIGN             2155\n",
       "IMPROPER TURN                        1750\n",
       "IMPROPER SIGNAL                      1584\n",
       "OPERATING W/O INSURANCE              1552\n",
       "Name: Violation, dtype: int64"
      ]
     },
     "execution_count": 16,
     "metadata": {},
     "output_type": "execute_result"
    }
   ],
   "source": [
    "nyc_senior_tickets.Violation.value_counts()[:10]"
   ]
  }
 ],
 "metadata": {
  "kernelspec": {
   "display_name": "Python 3",
   "language": "python",
   "name": "python3"
  },
  "language_info": {
   "codemirror_mode": {
    "name": "ipython",
    "version": 3
   },
   "file_extension": ".py",
   "mimetype": "text/x-python",
   "name": "python",
   "nbconvert_exporter": "python",
   "pygments_lexer": "ipython3",
   "version": "3.6.0"
  }
 },
 "nbformat": 4,
 "nbformat_minor": 2
}
