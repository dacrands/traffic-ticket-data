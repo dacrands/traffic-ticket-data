{
 "cells": [
  {
   "cell_type": "markdown",
   "metadata": {},
   "source": [
    "# Traffic-Ticket Data\n",
    "\n",
    "Exploratory analysis of over 6 million traffic-tickets from 2014-2017\n",
    "\n",
    "- [Data overview and cleaning](#Data-overview-and-cleaning)\n",
    "    - [Columns](#Columns)   \n",
    "    - [Remove garbage values](#Remove-garbage-values)\n",
    "    - [Fix mixed types error](#Fix-mixed-types-error)\n",
    "- [Top 10 Traffic Violations](#Top-10-Traffic-Violations)\n",
    "- [Traffic Violations by Gender](#Traffic-Violations-by-Gender)\n",
    "- [Traffic Violations by Age](#Traffic-Violations-by-Age)\n",
    "    - [Senior Citizens](#Senior-Citizens)\n",
    "        - [Senior Citizens in New York](#Senior-citizens-in-New-York)"
   ]
  },
  {
   "cell_type": "code",
   "execution_count": 1,
   "metadata": {
    "collapsed": false
   },
   "outputs": [],
   "source": [
    "import pandas as pd\n",
    "import numpy as np\n",
    "import matplotlib.pyplot as plt\n",
    "\n",
    "%matplotlib inline"
   ]
  },
  {
   "cell_type": "code",
   "execution_count": 2,
   "metadata": {
    "collapsed": false,
    "scrolled": false
   },
   "outputs": [
    {
     "name": "stderr",
     "output_type": "stream",
     "text": [
      "C:\\Users\\dacrands\\Anaconda3\\lib\\site-packages\\IPython\\core\\interactiveshell.py:2717: DtypeWarning: Columns (2) have mixed types. Specify dtype option on import or set low_memory=False.\n",
      "  interactivity=interactivity, compiler=compiler, result=result)\n"
     ]
    }
   ],
   "source": [
    "traffic_tickets = pd.read_csv('./Traffic_Tickets_Issued__Four_Year_Window.csv')"
   ]
  },
  {
   "cell_type": "markdown",
   "metadata": {},
   "source": [
    "*This error will be addressed in the next section*"
   ]
  },
  {
   "cell_type": "markdown",
   "metadata": {},
   "source": [
    "## Data overview and cleaning"
   ]
  },
  {
   "cell_type": "code",
   "execution_count": 3,
   "metadata": {
    "collapsed": false
   },
   "outputs": [
    {
     "data": {
      "text/plain": [
       "'Total rows: 6,298,032'"
      ]
     },
     "execution_count": 3,
     "metadata": {},
     "output_type": "execute_result"
    }
   ],
   "source": [
    "\"Total rows: {:,}\".format(len(traffic_tickets))"
   ]
  },
  {
   "cell_type": "markdown",
   "metadata": {},
   "source": [
    "### Columns"
   ]
  },
  {
   "cell_type": "markdown",
   "metadata": {},
   "source": [
    "View dframe columns"
   ]
  },
  {
   "cell_type": "code",
   "execution_count": 4,
   "metadata": {
    "collapsed": false
   },
   "outputs": [
    {
     "name": "stdout",
     "output_type": "stream",
     "text": [
      "Violation Charged Code\r\n",
      "Violation Description\r\n",
      "Violation Year\r\n",
      "Violation Month\r\n",
      "Violation Day of Week\r\n",
      "Age at Violation\r\n",
      "Gender\r\n",
      "State of License\r\n",
      "Police Agency\r\n",
      "Court\r\n",
      "Source\r\n"
     ]
    }
   ],
   "source": [
    "for col in traffic_tickets.columns:\n",
    "    print(col + \"\\r\")"
   ]
  },
  {
   "cell_type": "markdown",
   "metadata": {},
   "source": [
    "Create new dframe with cols of interest"
   ]
  },
  {
   "cell_type": "code",
   "execution_count": 5,
   "metadata": {
    "collapsed": false
   },
   "outputs": [
    {
     "data": {
      "text/plain": [
       "Index(['Violation Description', 'Violation Year', 'Violation Month',\n",
       "       'Violation Day of Week', 'Age at Violation', 'State of License',\n",
       "       'Gender'],\n",
       "      dtype='object')"
      ]
     },
     "execution_count": 5,
     "metadata": {},
     "output_type": "execute_result"
    }
   ],
   "source": [
    "traffic_tickets = traffic_tickets[[\n",
    "    \"Violation Description\", \n",
    "    \"Violation Year\", \n",
    "    \"Violation Month\",\n",
    "    \"Violation Day of Week\", \n",
    "    \"Age at Violation\", \n",
    "    \"State of License\", \n",
    "    \"Gender\",\n",
    "]]\n",
    "\n",
    "traffic_tickets.columns"
   ]
  },
  {
   "cell_type": "markdown",
   "metadata": {},
   "source": [
    "Create shorter col names"
   ]
  },
  {
   "cell_type": "code",
   "execution_count": 6,
   "metadata": {
    "collapsed": false
   },
   "outputs": [
    {
     "data": {
      "text/plain": [
       "Index(['Violation', 'Year', 'Month', 'Day', 'Age', 'State', 'Gender'], dtype='object')"
      ]
     },
     "execution_count": 6,
     "metadata": {},
     "output_type": "execute_result"
    }
   ],
   "source": [
    "traffic_tickets = traffic_tickets.rename(columns={\n",
    "    'Violation Description': 'Violation', \n",
    "    'Violation Year': 'Year', \n",
    "    'Violation Month': 'Month', \n",
    "    'Violation Day of Week': 'Day',\n",
    "    'Age at Violation': 'Age', \n",
    "    'State of License': 'State'\n",
    "})\n",
    "\n",
    "traffic_tickets.columns"
   ]
  },
  {
   "cell_type": "markdown",
   "metadata": {},
   "source": [
    "### Remove garbage values"
   ]
  },
  {
   "cell_type": "code",
   "execution_count": 7,
   "metadata": {
    "collapsed": false
   },
   "outputs": [
    {
     "data": {
      "text/html": [
       "<div>\n",
       "<style>\n",
       "    .dataframe thead tr:only-child th {\n",
       "        text-align: right;\n",
       "    }\n",
       "\n",
       "    .dataframe thead th {\n",
       "        text-align: left;\n",
       "    }\n",
       "\n",
       "    .dataframe tbody tr th {\n",
       "        vertical-align: top;\n",
       "    }\n",
       "</style>\n",
       "<table border=\"1\" class=\"dataframe\">\n",
       "  <thead>\n",
       "    <tr style=\"text-align: right;\">\n",
       "      <th></th>\n",
       "      <th>Violation</th>\n",
       "      <th>Year</th>\n",
       "      <th>Month</th>\n",
       "      <th>Day</th>\n",
       "      <th>Age</th>\n",
       "      <th>State</th>\n",
       "      <th>Gender</th>\n",
       "    </tr>\n",
       "  </thead>\n",
       "  <tbody>\n",
       "    <tr>\n",
       "      <th>0</th>\n",
       "      <td>UNINSPECTED MOTOR VEHICLE</td>\n",
       "      <td>2016</td>\n",
       "      <td>3.0</td>\n",
       "      <td>TUESDAY</td>\n",
       "      <td>21.0</td>\n",
       "      <td>NEW YORK</td>\n",
       "      <td>M</td>\n",
       "    </tr>\n",
       "    <tr>\n",
       "      <th>1</th>\n",
       "      <td>SPEED OVER 55 ZONE</td>\n",
       "      <td>2016</td>\n",
       "      <td>3.0</td>\n",
       "      <td>SATURDAY</td>\n",
       "      <td>18.0</td>\n",
       "      <td>NEW YORK</td>\n",
       "      <td>F</td>\n",
       "    </tr>\n",
       "    <tr>\n",
       "      <th>2</th>\n",
       "      <td>SPEED OVER 55 ZONE</td>\n",
       "      <td>2016</td>\n",
       "      <td>2.0</td>\n",
       "      <td>WEDNESDAY</td>\n",
       "      <td>55.0</td>\n",
       "      <td>NEW YORK</td>\n",
       "      <td>M</td>\n",
       "    </tr>\n",
       "    <tr>\n",
       "      <th>3</th>\n",
       "      <td>SPEED IN ZONE</td>\n",
       "      <td>2016</td>\n",
       "      <td>2.0</td>\n",
       "      <td>SUNDAY</td>\n",
       "      <td>41.0</td>\n",
       "      <td>NEW YORK</td>\n",
       "      <td>M</td>\n",
       "    </tr>\n",
       "    <tr>\n",
       "      <th>4</th>\n",
       "      <td>SPEED OVER 55 ZONE</td>\n",
       "      <td>2016</td>\n",
       "      <td>1.0</td>\n",
       "      <td>THURSDAY</td>\n",
       "      <td>25.0</td>\n",
       "      <td>NEW YORK</td>\n",
       "      <td>M</td>\n",
       "    </tr>\n",
       "  </tbody>\n",
       "</table>\n",
       "</div>"
      ],
      "text/plain": [
       "                   Violation  Year  Month        Day   Age     State Gender\n",
       "0  UNINSPECTED MOTOR VEHICLE  2016    3.0    TUESDAY  21.0  NEW YORK      M\n",
       "1         SPEED OVER 55 ZONE  2016    3.0   SATURDAY  18.0  NEW YORK      F\n",
       "2         SPEED OVER 55 ZONE  2016    2.0  WEDNESDAY  55.0  NEW YORK      M\n",
       "3              SPEED IN ZONE  2016    2.0     SUNDAY  41.0  NEW YORK      M\n",
       "4         SPEED OVER 55 ZONE  2016    1.0   THURSDAY  25.0  NEW YORK      M"
      ]
     },
     "execution_count": 7,
     "metadata": {},
     "output_type": "execute_result"
    }
   ],
   "source": [
    "traffic_tickets.head()"
   ]
  },
  {
   "cell_type": "code",
   "execution_count": 8,
   "metadata": {
    "collapsed": false,
    "scrolled": true
   },
   "outputs": [
    {
     "data": {
      "text/html": [
       "<div>\n",
       "<style>\n",
       "    .dataframe thead tr:only-child th {\n",
       "        text-align: right;\n",
       "    }\n",
       "\n",
       "    .dataframe thead th {\n",
       "        text-align: left;\n",
       "    }\n",
       "\n",
       "    .dataframe tbody tr th {\n",
       "        vertical-align: top;\n",
       "    }\n",
       "</style>\n",
       "<table border=\"1\" class=\"dataframe\">\n",
       "  <thead>\n",
       "    <tr style=\"text-align: right;\">\n",
       "      <th></th>\n",
       "      <th>Violation</th>\n",
       "      <th>Year</th>\n",
       "      <th>Month</th>\n",
       "      <th>Day</th>\n",
       "      <th>Age</th>\n",
       "      <th>State</th>\n",
       "      <th>Gender</th>\n",
       "    </tr>\n",
       "  </thead>\n",
       "  <tbody>\n",
       "    <tr>\n",
       "      <th>6298027</th>\n",
       "      <td>OPER MV WHILE USING PORTABLE ELEC DEV</td>\n",
       "      <td>20{</td>\n",
       "      <td>NaN</td>\n",
       "      <td>NaN</td>\n",
       "      <td>NaN</td>\n",
       "      <td>NaN</td>\n",
       "      <td>NaN</td>\n",
       "    </tr>\n",
       "    <tr>\n",
       "      <th>6298028</th>\n",
       "      <td>NaN</td>\n",
       "      <td>NaN</td>\n",
       "      <td>NaN</td>\n",
       "      <td>NaN</td>\n",
       "      <td>NaN</td>\n",
       "      <td>NaN</td>\n",
       "      <td>NaN</td>\n",
       "    </tr>\n",
       "    <tr>\n",
       "      <th>6298029</th>\n",
       "      <td>NaN</td>\n",
       "      <td>NaN</td>\n",
       "      <td>NaN</td>\n",
       "      <td>NaN</td>\n",
       "      <td>NaN</td>\n",
       "      <td>NaN</td>\n",
       "      <td>NaN</td>\n",
       "    </tr>\n",
       "    <tr>\n",
       "      <th>6298030</th>\n",
       "      <td>NaN</td>\n",
       "      <td>NaN</td>\n",
       "      <td>NaN</td>\n",
       "      <td>NaN</td>\n",
       "      <td>NaN</td>\n",
       "      <td>NaN</td>\n",
       "      <td>NaN</td>\n",
       "    </tr>\n",
       "    <tr>\n",
       "      <th>6298031</th>\n",
       "      <td>NaN</td>\n",
       "      <td>NaN</td>\n",
       "      <td>NaN</td>\n",
       "      <td>NaN</td>\n",
       "      <td>NaN</td>\n",
       "      <td>NaN</td>\n",
       "      <td>NaN</td>\n",
       "    </tr>\n",
       "  </tbody>\n",
       "</table>\n",
       "</div>"
      ],
      "text/plain": [
       "                                     Violation Year  Month  Day  Age State  \\\n",
       "6298027  OPER MV WHILE USING PORTABLE ELEC DEV  20{    NaN  NaN  NaN   NaN   \n",
       "6298028                                    NaN  NaN    NaN  NaN  NaN   NaN   \n",
       "6298029                                    NaN  NaN    NaN  NaN  NaN   NaN   \n",
       "6298030                                    NaN  NaN    NaN  NaN  NaN   NaN   \n",
       "6298031                                    NaN  NaN    NaN  NaN  NaN   NaN   \n",
       "\n",
       "        Gender  \n",
       "6298027    NaN  \n",
       "6298028    NaN  \n",
       "6298029    NaN  \n",
       "6298030    NaN  \n",
       "6298031    NaN  "
      ]
     },
     "execution_count": 8,
     "metadata": {},
     "output_type": "execute_result"
    }
   ],
   "source": [
    "traffic_tickets.tail()"
   ]
  },
  {
   "cell_type": "markdown",
   "metadata": {},
   "source": [
    "Create new dframe sans the trailing garbage values"
   ]
  },
  {
   "cell_type": "code",
   "execution_count": 9,
   "metadata": {
    "collapsed": false
   },
   "outputs": [
    {
     "data": {
      "text/html": [
       "<div>\n",
       "<style>\n",
       "    .dataframe thead tr:only-child th {\n",
       "        text-align: right;\n",
       "    }\n",
       "\n",
       "    .dataframe thead th {\n",
       "        text-align: left;\n",
       "    }\n",
       "\n",
       "    .dataframe tbody tr th {\n",
       "        vertical-align: top;\n",
       "    }\n",
       "</style>\n",
       "<table border=\"1\" class=\"dataframe\">\n",
       "  <thead>\n",
       "    <tr style=\"text-align: right;\">\n",
       "      <th></th>\n",
       "      <th>Violation</th>\n",
       "      <th>Year</th>\n",
       "      <th>Month</th>\n",
       "      <th>Day</th>\n",
       "      <th>Age</th>\n",
       "      <th>State</th>\n",
       "      <th>Gender</th>\n",
       "    </tr>\n",
       "  </thead>\n",
       "  <tbody>\n",
       "    <tr>\n",
       "      <th>6298022</th>\n",
       "      <td>OPERATING MV MOBILE PHONE</td>\n",
       "      <td>2017</td>\n",
       "      <td>8.0</td>\n",
       "      <td>MONDAY</td>\n",
       "      <td>29.0</td>\n",
       "      <td>NEW YORK</td>\n",
       "      <td>M</td>\n",
       "    </tr>\n",
       "    <tr>\n",
       "      <th>6298023</th>\n",
       "      <td>PLATE MISSING/INSECURE/DIRTY</td>\n",
       "      <td>2017</td>\n",
       "      <td>8.0</td>\n",
       "      <td>MONDAY</td>\n",
       "      <td>46.0</td>\n",
       "      <td>NEW YORK</td>\n",
       "      <td>M</td>\n",
       "    </tr>\n",
       "    <tr>\n",
       "      <th>6298024</th>\n",
       "      <td>DISOBEYED TRAFFIC DEVICE</td>\n",
       "      <td>2017</td>\n",
       "      <td>8.0</td>\n",
       "      <td>MONDAY</td>\n",
       "      <td>22.0</td>\n",
       "      <td>MARYLAND</td>\n",
       "      <td>M</td>\n",
       "    </tr>\n",
       "    <tr>\n",
       "      <th>6298025</th>\n",
       "      <td>IMPROPER SIGNAL</td>\n",
       "      <td>2017</td>\n",
       "      <td>8.0</td>\n",
       "      <td>MONDAY</td>\n",
       "      <td>36.0</td>\n",
       "      <td>NEW JERSEY</td>\n",
       "      <td>M</td>\n",
       "    </tr>\n",
       "    <tr>\n",
       "      <th>6298026</th>\n",
       "      <td>COM VEH ON PKWAY NYC</td>\n",
       "      <td>2017</td>\n",
       "      <td>8.0</td>\n",
       "      <td>MONDAY</td>\n",
       "      <td>42.0</td>\n",
       "      <td>NEW YORK</td>\n",
       "      <td>M</td>\n",
       "    </tr>\n",
       "  </tbody>\n",
       "</table>\n",
       "</div>"
      ],
      "text/plain": [
       "                            Violation  Year  Month     Day   Age       State  \\\n",
       "6298022     OPERATING MV MOBILE PHONE  2017    8.0  MONDAY  29.0    NEW YORK   \n",
       "6298023  PLATE MISSING/INSECURE/DIRTY  2017    8.0  MONDAY  46.0    NEW YORK   \n",
       "6298024      DISOBEYED TRAFFIC DEVICE  2017    8.0  MONDAY  22.0    MARYLAND   \n",
       "6298025               IMPROPER SIGNAL  2017    8.0  MONDAY  36.0  NEW JERSEY   \n",
       "6298026          COM VEH ON PKWAY NYC  2017    8.0  MONDAY  42.0    NEW YORK   \n",
       "\n",
       "        Gender  \n",
       "6298022      M  \n",
       "6298023      M  \n",
       "6298024      M  \n",
       "6298025      M  \n",
       "6298026      M  "
      ]
     },
     "execution_count": 9,
     "metadata": {},
     "output_type": "execute_result"
    }
   ],
   "source": [
    "traffic_tickets = traffic_tickets[:6298027]\n",
    "\n",
    "traffic_tickets.tail()"
   ]
  },
  {
   "cell_type": "markdown",
   "metadata": {},
   "source": [
    "### Fix mixed types error \n",
    "\n",
    "Address `DtypeWarning: Columns (2) have mixed types. Specify dtype option on import or set low_memory=False`"
   ]
  },
  {
   "cell_type": "code",
   "execution_count": 10,
   "metadata": {
    "collapsed": false
   },
   "outputs": [
    {
     "data": {
      "text/plain": [
       "dict_keys(['Violation', 'Year', 'Month', 'Day', 'Age', 'State', 'Gender'])"
      ]
     },
     "execution_count": 10,
     "metadata": {},
     "output_type": "execute_result"
    }
   ],
   "source": [
    "traffic_ticket_sets = {}\n",
    "for col in traffic_tickets.columns:\n",
    "    traffic_ticket_sets[col] = set(traffic_tickets[col])\n",
    "\n",
    "traffic_ticket_sets.keys()"
   ]
  },
  {
   "cell_type": "code",
   "execution_count": 11,
   "metadata": {
    "collapsed": false
   },
   "outputs": [
    {
     "name": "stdout",
     "output_type": "stream",
     "text": [
      "Violation: {<class 'str'>}\n",
      "Year: {<class 'int'>, <class 'str'>}\n",
      "Month: {<class 'numpy.float64'>}\n",
      "Day: {<class 'str'>}\n",
      "Age: {<class 'numpy.float64'>}\n",
      "State: {<class 'str'>, <class 'float'>}\n",
      "Gender: {<class 'str'>}\n"
     ]
    }
   ],
   "source": [
    "for key in traffic_ticket_sets.keys():\n",
    "    print(\"{0}: {1}\".format(\n",
    "        key,\n",
    "        set([type(i) for i in traffic_ticket_sets[key]])))"
   ]
  },
  {
   "cell_type": "markdown",
   "metadata": {},
   "source": [
    "So it seems the cols containing mixed-types are `Year` and `State`. Let's fix that."
   ]
  },
  {
   "cell_type": "code",
   "execution_count": 12,
   "metadata": {
    "collapsed": false
   },
   "outputs": [
    {
     "data": {
      "text/plain": [
       "{2016, 2017, '2017', 2014, 2015}"
      ]
     },
     "execution_count": 12,
     "metadata": {},
     "output_type": "execute_result"
    }
   ],
   "source": [
    "traffic_ticket_sets[\"Year\"]"
   ]
  },
  {
   "cell_type": "code",
   "execution_count": 13,
   "metadata": {
    "collapsed": true
   },
   "outputs": [],
   "source": [
    "traffic_tickets = traffic_tickets.replace(to_replace=\"2017\", value=2017)"
   ]
  },
  {
   "cell_type": "code",
   "execution_count": 14,
   "metadata": {
    "collapsed": false
   },
   "outputs": [
    {
     "data": {
      "text/plain": [
       "{2014, 2015, 2016, 2017}"
      ]
     },
     "execution_count": 14,
     "metadata": {},
     "output_type": "execute_result"
    }
   ],
   "source": [
    "set(traffic_tickets.Year)"
   ]
  },
  {
   "cell_type": "code",
   "execution_count": 15,
   "metadata": {
    "collapsed": false
   },
   "outputs": [
    {
     "data": {
      "text/plain": [
       "78"
      ]
     },
     "execution_count": 15,
     "metadata": {},
     "output_type": "execute_result"
    }
   ],
   "source": [
    "len(traffic_ticket_sets[\"State\"])"
   ]
  },
  {
   "cell_type": "code",
   "execution_count": 16,
   "metadata": {
    "collapsed": false
   },
   "outputs": [
    {
     "data": {
      "text/plain": [
       "{nan,\n",
       " 'INDIANA',\n",
       " 'COLORADO',\n",
       " 'NEW HAMPSHIRE',\n",
       " 'PENNSYLVANIA',\n",
       " 'OHIO',\n",
       " 'MISSOURI',\n",
       " 'ARKANSAS',\n",
       " 'IDAHO',\n",
       " 'NUNAVUT CANADA',\n",
       " 'KANSAS',\n",
       " 'MINNESOTA',\n",
       " 'UNKNOWN',\n",
       " 'ONTARIO CANADA',\n",
       " 'NEW JERSEY',\n",
       " 'SASKATCHEWAN CANADA',\n",
       " 'FOREIGN LICENSE',\n",
       " 'QUEBEC CANADA',\n",
       " 'TENNESSEE',\n",
       " 'RHODE ISLAND',\n",
       " 'NEWFOUNDLAND CANADA',\n",
       " 'NORTH CAROLINA',\n",
       " 'MARYLAND',\n",
       " 'PUERTO RICO',\n",
       " 'DISTRICT OF COLUMBIA',\n",
       " 'US GOVERNMENT',\n",
       " 'AMERICAN SAMOA',\n",
       " 'HAWAII',\n",
       " 'ARIZONA',\n",
       " 'SOUTH DAKOTA',\n",
       " 'SOUTH CAROLINA',\n",
       " 'WISCONSIN',\n",
       " 'DELAWARE',\n",
       " 'ALABAMA',\n",
       " 'WYOMING',\n",
       " 'ARMED FORCES AMERICA',\n",
       " 'NEW YORK',\n",
       " 'TEXAS',\n",
       " 'UTAH',\n",
       " 'PANAMA',\n",
       " 'ILLINOIS',\n",
       " 'IOWA',\n",
       " 'PRINCE EDWARD ISLAND CANADA',\n",
       " 'BRITISH COLUMBIA CANADA',\n",
       " 'INTERNATIONAL LICENSE',\n",
       " 'NEW BRUNSWICK CANADA',\n",
       " 'WEST VIRGINIA',\n",
       " 'VERMONT',\n",
       " 'NORTH DAKOTA',\n",
       " 'WASHINGTON',\n",
       " 'VIRGIN ISLANDS',\n",
       " 'NEBRASKA',\n",
       " 'OKLAHOMA',\n",
       " 'NORTHWEST TERRITORIES CANADA',\n",
       " 'NOVA SCOTIA CANADA',\n",
       " 'MEXICO',\n",
       " 'NEW MEXICO',\n",
       " 'ARMED FORCES',\n",
       " 'NEVADA',\n",
       " 'GEORGIA',\n",
       " 'VIRGINIA',\n",
       " 'LOUISIANA',\n",
       " 'US FOREIGN DIPLOMATS',\n",
       " 'GUAM',\n",
       " 'MICHIGAN',\n",
       " 'MASSACHUSETTS',\n",
       " 'MAINE',\n",
       " 'MANITOBA',\n",
       " 'MONTANA',\n",
       " 'YUKON TERRITORY CANADA',\n",
       " 'FLORIDA',\n",
       " 'MISSISSIPPI',\n",
       " 'ALASKA',\n",
       " 'ALBERTA CANADA',\n",
       " 'CONNECTICUT',\n",
       " 'KENTUCKY',\n",
       " 'CALIFORNIA',\n",
       " 'OREGON'}"
      ]
     },
     "execution_count": 16,
     "metadata": {},
     "output_type": "execute_result"
    }
   ],
   "source": [
    "traffic_ticket_sets[\"State\"]"
   ]
  },
  {
   "cell_type": "markdown",
   "metadata": {},
   "source": [
    "List of states provided by:\n",
    "    \n",
    "[List of states repo](https://gist.github.com/iamjason/8f8f4bc00c13de86bcad)"
   ]
  },
  {
   "cell_type": "code",
   "execution_count": 17,
   "metadata": {
    "collapsed": true
   },
   "outputs": [],
   "source": [
    "states = [\"Alaska\",\n",
    "          \"Alabama\",\n",
    "          \"Arkansas\",\n",
    "          \"American Samoa\",\n",
    "          \"Arizona\",\n",
    "          \"California\",\n",
    "          \"Colorado\",\n",
    "          \"Connecticut\",\n",
    "          \"District of Columbia\",\n",
    "          \"Delaware\",\n",
    "          \"Florida\",\n",
    "          \"Georgia\",\n",
    "          \"Guam\",\n",
    "          \"Hawaii\",\n",
    "          \"Iowa\",\n",
    "          \"Idaho\",\n",
    "          \"Illinois\",\n",
    "          \"Indiana\",\n",
    "          \"Kansas\",\n",
    "          \"Kentucky\",\n",
    "          \"Louisiana\",\n",
    "          \"Massachusetts\",\n",
    "          \"Maryland\",\n",
    "          \"Maine\",\n",
    "          \"Michigan\",\n",
    "          \"Minnesota\",\n",
    "          \"Missouri\",\n",
    "          \"Mississippi\",\n",
    "          \"Montana\",\n",
    "          \"North Carolina\",\n",
    "          \"North Dakota\",\n",
    "          \"Nebraska\",\n",
    "          \"New Hampshire\",\n",
    "          \"New Jersey\",\n",
    "          \"New Mexico\",\n",
    "          \"Nevada\",\n",
    "          \"New York\",\n",
    "          \"Ohio\",\n",
    "          \"Oklahoma\",\n",
    "          \"Oregon\",\n",
    "          \"Pennsylvania\",\n",
    "          \"Puerto Rico\",\n",
    "          \"Rhode Island\",\n",
    "          \"South Carolina\",\n",
    "          \"South Dakota\",\n",
    "          \"Tennessee\",\n",
    "          \"Texas\",\n",
    "          \"Utah\",\n",
    "          \"Virginia\",\n",
    "          \"Virgin Islands\",\n",
    "          \"Vermont\",\n",
    "          \"Washington\",\n",
    "          \"Wisconsin\",\n",
    "          \"West Virginia\",\n",
    "          \"Wyoming\"]\n",
    "\n",
    "states = [s.upper() for s in states]"
   ]
  },
  {
   "cell_type": "code",
   "execution_count": 19,
   "metadata": {
    "collapsed": false
   },
   "outputs": [
    {
     "name": "stdout",
     "output_type": "stream",
     "text": [
      "Showing 23 weird states: \n",
      "\n",
      "0 nan\n",
      "1 NUNAVUT CANADA\n",
      "2 UNKNOWN\n",
      "3 ONTARIO CANADA\n",
      "4 SASKATCHEWAN CANADA\n",
      "5 FOREIGN LICENSE\n",
      "6 QUEBEC CANADA\n",
      "7 NEWFOUNDLAND CANADA\n",
      "8 US GOVERNMENT\n",
      "9 ARMED FORCES AMERICA\n",
      "10 PANAMA\n",
      "11 PRINCE EDWARD ISLAND CANADA\n",
      "12 BRITISH COLUMBIA CANADA\n",
      "13 INTERNATIONAL LICENSE\n",
      "14 NEW BRUNSWICK CANADA\n",
      "15 NORTHWEST TERRITORIES CANADA\n",
      "16 NOVA SCOTIA CANADA\n",
      "17 MEXICO\n",
      "18 ARMED FORCES\n",
      "19 US FOREIGN DIPLOMATS\n",
      "20 MANITOBA\n",
      "21 YUKON TERRITORY CANADA\n",
      "22 ALBERTA CANADA\n"
     ]
    }
   ],
   "source": [
    "weird_states = [col_state for col_state in traffic_ticket_sets[\"State\"] if\n",
    "                    str(col_state) not in [fifty_state for fifty_state in states]]\n",
    "\n",
    "print(\"Showing {0} weird states: \\n\".format(len(weird_states)))\n",
    "for i, ws in enumerate(weird_states):\n",
    "    print(i, ws)"
   ]
  },
  {
   "cell_type": "code",
   "execution_count": 20,
   "metadata": {
    "collapsed": false
   },
   "outputs": [],
   "source": [
    "traffic_tickets = traffic_tickets[~traffic_tickets.State.isin(weird_states)]"
   ]
  },
  {
   "cell_type": "code",
   "execution_count": 21,
   "metadata": {
    "collapsed": false
   },
   "outputs": [
    {
     "data": {
      "text/plain": [
       "{nan,\n",
       " 'INDIANA',\n",
       " 'COLORADO',\n",
       " 'NEW HAMPSHIRE',\n",
       " 'PENNSYLVANIA',\n",
       " 'OHIO',\n",
       " 'MISSOURI',\n",
       " 'ARKANSAS',\n",
       " 'IDAHO',\n",
       " 'KANSAS',\n",
       " 'MINNESOTA',\n",
       " 'NEW JERSEY',\n",
       " 'TENNESSEE',\n",
       " 'RHODE ISLAND',\n",
       " 'NORTH CAROLINA',\n",
       " 'MARYLAND',\n",
       " 'PUERTO RICO',\n",
       " 'DISTRICT OF COLUMBIA',\n",
       " 'AMERICAN SAMOA',\n",
       " 'HAWAII',\n",
       " 'ARIZONA',\n",
       " 'SOUTH DAKOTA',\n",
       " 'SOUTH CAROLINA',\n",
       " 'WISCONSIN',\n",
       " 'DELAWARE',\n",
       " 'ALABAMA',\n",
       " 'WYOMING',\n",
       " 'NEW YORK',\n",
       " 'TEXAS',\n",
       " 'UTAH',\n",
       " 'ILLINOIS',\n",
       " 'IOWA',\n",
       " 'WEST VIRGINIA',\n",
       " 'VERMONT',\n",
       " 'NORTH DAKOTA',\n",
       " 'WASHINGTON',\n",
       " 'VIRGIN ISLANDS',\n",
       " 'NEBRASKA',\n",
       " 'OKLAHOMA',\n",
       " 'NEW MEXICO',\n",
       " 'NEVADA',\n",
       " 'GEORGIA',\n",
       " 'VIRGINIA',\n",
       " 'LOUISIANA',\n",
       " 'GUAM',\n",
       " 'MICHIGAN',\n",
       " 'MASSACHUSETTS',\n",
       " 'MAINE',\n",
       " 'MONTANA',\n",
       " 'FLORIDA',\n",
       " 'MISSISSIPPI',\n",
       " 'ALASKA',\n",
       " 'CONNECTICUT',\n",
       " 'KENTUCKY',\n",
       " 'CALIFORNIA',\n",
       " 'OREGON'}"
      ]
     },
     "execution_count": 21,
     "metadata": {},
     "output_type": "execute_result"
    }
   ],
   "source": [
    "set(traffic_tickets.State)"
   ]
  },
  {
   "cell_type": "code",
   "execution_count": 23,
   "metadata": {
    "collapsed": false
   },
   "outputs": [],
   "source": [
    "traffic_tickets = traffic_tickets.dropna()"
   ]
  },
  {
   "cell_type": "code",
   "execution_count": 24,
   "metadata": {
    "collapsed": false,
    "scrolled": true
   },
   "outputs": [
    {
     "data": {
      "text/plain": [
       "{'ALABAMA',\n",
       " 'ALASKA',\n",
       " 'AMERICAN SAMOA',\n",
       " 'ARIZONA',\n",
       " 'ARKANSAS',\n",
       " 'CALIFORNIA',\n",
       " 'COLORADO',\n",
       " 'CONNECTICUT',\n",
       " 'DELAWARE',\n",
       " 'DISTRICT OF COLUMBIA',\n",
       " 'FLORIDA',\n",
       " 'GEORGIA',\n",
       " 'GUAM',\n",
       " 'HAWAII',\n",
       " 'IDAHO',\n",
       " 'ILLINOIS',\n",
       " 'INDIANA',\n",
       " 'IOWA',\n",
       " 'KANSAS',\n",
       " 'KENTUCKY',\n",
       " 'LOUISIANA',\n",
       " 'MAINE',\n",
       " 'MARYLAND',\n",
       " 'MASSACHUSETTS',\n",
       " 'MICHIGAN',\n",
       " 'MINNESOTA',\n",
       " 'MISSISSIPPI',\n",
       " 'MISSOURI',\n",
       " 'MONTANA',\n",
       " 'NEBRASKA',\n",
       " 'NEVADA',\n",
       " 'NEW HAMPSHIRE',\n",
       " 'NEW JERSEY',\n",
       " 'NEW MEXICO',\n",
       " 'NEW YORK',\n",
       " 'NORTH CAROLINA',\n",
       " 'NORTH DAKOTA',\n",
       " 'OHIO',\n",
       " 'OKLAHOMA',\n",
       " 'OREGON',\n",
       " 'PENNSYLVANIA',\n",
       " 'PUERTO RICO',\n",
       " 'RHODE ISLAND',\n",
       " 'SOUTH CAROLINA',\n",
       " 'SOUTH DAKOTA',\n",
       " 'TENNESSEE',\n",
       " 'TEXAS',\n",
       " 'UTAH',\n",
       " 'VERMONT',\n",
       " 'VIRGIN ISLANDS',\n",
       " 'VIRGINIA',\n",
       " 'WASHINGTON',\n",
       " 'WEST VIRGINIA',\n",
       " 'WISCONSIN',\n",
       " 'WYOMING'}"
      ]
     },
     "execution_count": 24,
     "metadata": {},
     "output_type": "execute_result"
    }
   ],
   "source": [
    "set(traffic_tickets.State)"
   ]
  },
  {
   "cell_type": "code",
   "execution_count": 25,
   "metadata": {
    "collapsed": false,
    "scrolled": false
   },
   "outputs": [
    {
     "data": {
      "text/plain": [
       "55"
      ]
     },
     "execution_count": 25,
     "metadata": {},
     "output_type": "execute_result"
    }
   ],
   "source": [
    "len(set(traffic_tickets.State)) #magic num is 55"
   ]
  },
  {
   "cell_type": "markdown",
   "metadata": {},
   "source": [
    "## Graph Config"
   ]
  },
  {
   "cell_type": "code",
   "execution_count": 26,
   "metadata": {
    "collapsed": false
   },
   "outputs": [],
   "source": [
    "SMALL_TEXT = 10\n",
    "MEDIUM_TEXT = 12\n",
    "LARGE_TEXT = 18\n",
    "\n",
    "plt.style.use('seaborn')\n",
    "plt.style.use('dark_background')\n",
    "\n",
    "plt.rc('font', size=SMALL_TEXT)          # controls default text sizes\n",
    "plt.rc('axes', titlesize=LARGE_TEXT)    # fontsize of the axes title\n",
    "plt.rc('axes', labelsize=MEDIUM_TEXT)    # fontsize of the x and y labels\n",
    "plt.rc('xtick', labelsize=SMALL_TEXT)    # fontsize of the tick labels\n",
    "plt.rc('ytick', labelsize=SMALL_TEXT)    # fontsize of the tick labels\n",
    "plt.rc('legend', fontsize=SMALL_TEXT)    # legend fontsize\n",
    "plt.rc('figure', titlesize=LARGE_TEXT)  "
   ]
  },
  {
   "cell_type": "markdown",
   "metadata": {},
   "source": [
    "## Top 10 Traffic Violations"
   ]
  },
  {
   "cell_type": "code",
   "execution_count": 27,
   "metadata": {
    "collapsed": true
   },
   "outputs": [],
   "source": [
    "top_10_violations = traffic_tickets \\\n",
    "                        .Violation \\\n",
    "                        .value_counts()[:10] "
   ]
  },
  {
   "cell_type": "code",
   "execution_count": 28,
   "metadata": {
    "collapsed": false,
    "scrolled": true
   },
   "outputs": [
    {
     "data": {
      "image/png": "[encoded data removed]",
      "text/plain": [
       "<matplotlib.figure.Figure at 0x129cc886748>"
      ]
     },
     "metadata": {},
     "output_type": "display_data"
    }
   ],
   "source": [
    "top_10_violations \\\n",
    "    .plot(kind=\"barh\", figsize=(6,8), color=\"#1841d5de\", title=\"Top 10 Most Ticketed Violations \\n 2014 - 2017 \") \\\n",
    "    .invert_yaxis()\n",
    "    \n",
    "for i, v in enumerate(range(10)):\n",
    "    plt.text(top_10_violations[i] - 80000, v-.05, '{:,}'.format(top_10_violations[i]))\n",
    "    \n",
    "plt.savefig(\"top-10-violations.png\", bbox_inches=\"tight\", pad_inches=0.2, dpi=120)"
   ]
  },
  {
   "cell_type": "markdown",
   "metadata": {},
   "source": [
    "## Traffic Violations by Gender"
   ]
  },
  {
   "cell_type": "code",
   "execution_count": 29,
   "metadata": {
    "collapsed": false
   },
   "outputs": [
    {
     "data": {
      "text/plain": [
       "M    4186645\n",
       "F    1744887\n",
       "Name: Gender, dtype: int64"
      ]
     },
     "execution_count": 29,
     "metadata": {},
     "output_type": "execute_result"
    }
   ],
   "source": [
    "traffic_tickets.Gender.value_counts()"
   ]
  },
  {
   "cell_type": "code",
   "execution_count": 179,
   "metadata": {
    "collapsed": false
   },
   "outputs": [
    {
     "data": {
      "image/png": "[encoded data removed]",
      "text/plain": [
       "<matplotlib.figure.Figure at 0x1298bc7ed30>"
      ]
     },
     "metadata": {},
     "output_type": "display_data"
    }
   ],
   "source": [
    "# Thanks https://stackoverflow.com/questions/6170246/how-do-i-use-matplotlib-autopct\n",
    "# for  `make_autopct()`\n",
    "def make_autopct(values):\n",
    "    def my_autopct(pct):\n",
    "        total = sum(values)\n",
    "        val = int(round(pct*total/100.0))\n",
    "        return '{p:.2f}% \\n ({v:,})'.format(p=pct,v=val)\n",
    "    return my_autopct\n",
    "\n",
    "traffic_tickets \\\n",
    "    .Gender \\\n",
    "    .value_counts() \\\n",
    "    .plot(kind=\"pie\", \n",
    "          figsize=(8,8), \n",
    "          wedgeprops=dict(width=0.35), \n",
    "          colors=[\"#663399de\", \"#0cb2cdd1\"],\n",
    "          labels=[\"Male\", \"Female\"], \n",
    "          autopct=make_autopct(traffic_tickets.Gender.value_counts()),\n",
    "          pctdistance=0.8,\n",
    "          title=\"Traffic Violations by Gender\") \\\n",
    "    .set_ylabel('')\n",
    "\n",
    "plt.savefig(\"gender-pie.jpg\", bbox_inches=\"tight\", dpi=120, pad_inches=0.2)"
   ]
  },
  {
   "cell_type": "code",
   "execution_count": 72,
   "metadata": {
    "collapsed": true
   },
   "outputs": [],
   "source": [
    "top_male_violations = traffic_tickets.loc[traffic_tickets.Gender == \"M\"] \\\n",
    "                        .Violation \\\n",
    "                        .value_counts()[:10]\n",
    "        \n",
    "top_female_violations = traffic_tickets.loc[traffic_tickets.Gender == \"F\"] \\\n",
    "                        .Violation \\\n",
    "                        .value_counts()[:10]"
   ]
  },
  {
   "cell_type": "code",
   "execution_count": 178,
   "metadata": {
    "collapsed": false
   },
   "outputs": [
    {
     "data": {
      "image/png": "[encoded data removed]",
      "text/plain": [
       "<matplotlib.figure.Figure at 0x1298bac5ba8>"
      ]
     },
     "metadata": {},
     "output_type": "display_data"
    }
   ],
   "source": [
    "fig, (ax1, ax2) = plt.subplots(2, 1, sharey=True, figsize=(8, 12))\n",
    "\n",
    "top_male_violations.plot(\n",
    "    kind=\"barh\", \n",
    "    ax=ax1, \n",
    "    width=0.8,\n",
    "    title=\"Male Traffic Violations\", \n",
    "    color=\"#663399de\"\n",
    ") \n",
    "ax1.invert_yaxis()\n",
    "ax1.set_xlim(right=450000)\n",
    "\n",
    "top_female_violations.plot(\n",
    "    kind=\"barh\", \n",
    "    ax=ax2, \n",
    "    width=0.8,\n",
    "    title=\"Female Traffic Violations\", \n",
    "    color=\"#0cb2cdd1\"\n",
    ") \n",
    "ax2.set_xlim(right=450000)\n",
    "\n",
    "for i in range(10):\n",
    "    ax1.text(top_male_violations[i] - 40000, i+.065, '{:,}'.format(top_male_violations[i]))\n",
    "    ax2.text(top_female_violations[i] - 40000, i+.065, '{:,}'.format(top_female_violations[i]))\n",
    "\n",
    "plt.savefig(\"gender-bar.jpg\", bbox_inches=\"tight\", pad_inches=0.2, dpi=240)"
   ]
  },
  {
   "cell_type": "markdown",
   "metadata": {},
   "source": [
    "## Traffic Violations by Age"
   ]
  },
  {
   "cell_type": "code",
   "execution_count": 104,
   "metadata": {
    "collapsed": false
   },
   "outputs": [
    {
     "data": {
      "text/plain": [
       "count    5931532.000000\n",
       "mean          36.698954\n",
       "std           13.903908\n",
       "min           16.000000\n",
       "25%           25.000000\n",
       "50%           34.000000\n",
       "75%           47.000000\n",
       "max           95.000000\n",
       "Name: Age, dtype: object"
      ]
     },
     "execution_count": 104,
     "metadata": {},
     "output_type": "execute_result"
    }
   ],
   "source": [
    "traffic_tickets.Age.describe().apply(lambda x: format(x, 'f'))"
   ]
  },
  {
   "cell_type": "code",
   "execution_count": 105,
   "metadata": {
    "collapsed": false
   },
   "outputs": [
    {
     "data": {
      "text/plain": [
       "34.0"
      ]
     },
     "execution_count": 105,
     "metadata": {},
     "output_type": "execute_result"
    }
   ],
   "source": [
    "traffic_tickets.Age.median()"
   ]
  },
  {
   "cell_type": "code",
   "execution_count": 106,
   "metadata": {
    "collapsed": false
   },
   "outputs": [
    {
     "data": {
      "text/plain": [
       "0    24.0\n",
       "dtype: float64"
      ]
     },
     "execution_count": 106,
     "metadata": {},
     "output_type": "execute_result"
    }
   ],
   "source": [
    "traffic_tickets.Age.mode()"
   ]
  },
  {
   "cell_type": "code",
   "execution_count": 182,
   "metadata": {
    "collapsed": false
   },
   "outputs": [
    {
     "data": {
      "image/png": "[encoded data removed]",
      "text/plain": [
       "<matplotlib.figure.Figure at 0x1298bc74dd8>"
      ]
     },
     "metadata": {},
     "output_type": "display_data"
    }
   ],
   "source": [
    "plt.hist(traffic_tickets.Age.dropna(), bins=20, color=\"#d5186fde\")\n",
    "plt.title(\"Traffic Ticket Age Distribution\")\n",
    "plt.xlabel(\"Age\")\n",
    "\n",
    "plt.savefig(\"age-dist.svg\", bbox_inches=\"tight\", pad_inches=0.2, dpi=200)"
   ]
  },
  {
   "cell_type": "markdown",
   "metadata": {
    "collapsed": true
   },
   "source": [
    "### Senior Citizens"
   ]
  },
  {
   "cell_type": "code",
   "execution_count": 195,
   "metadata": {
    "collapsed": true
   },
   "outputs": [],
   "source": [
    "senior_tickets = traffic_tickets[traffic_tickets.Age >= 65]"
   ]
  },
  {
   "cell_type": "code",
   "execution_count": 196,
   "metadata": {
    "collapsed": false
   },
   "outputs": [
    {
     "data": {
      "text/html": [
       "<div>\n",
       "<style>\n",
       "    .dataframe thead tr:only-child th {\n",
       "        text-align: right;\n",
       "    }\n",
       "\n",
       "    .dataframe thead th {\n",
       "        text-align: left;\n",
       "    }\n",
       "\n",
       "    .dataframe tbody tr th {\n",
       "        vertical-align: top;\n",
       "    }\n",
       "</style>\n",
       "<table border=\"1\" class=\"dataframe\">\n",
       "  <thead>\n",
       "    <tr style=\"text-align: right;\">\n",
       "      <th></th>\n",
       "      <th>Year</th>\n",
       "      <th>Month</th>\n",
       "      <th>Age</th>\n",
       "    </tr>\n",
       "  </thead>\n",
       "  <tbody>\n",
       "    <tr>\n",
       "      <th>count</th>\n",
       "      <td>215391.000000</td>\n",
       "      <td>215391.000000</td>\n",
       "      <td>215391.000000</td>\n",
       "    </tr>\n",
       "    <tr>\n",
       "      <th>mean</th>\n",
       "      <td>2015.523806</td>\n",
       "      <td>6.496604</td>\n",
       "      <td>70.443231</td>\n",
       "    </tr>\n",
       "    <tr>\n",
       "      <th>std</th>\n",
       "      <td>1.126189</td>\n",
       "      <td>3.306446</td>\n",
       "      <td>5.274218</td>\n",
       "    </tr>\n",
       "    <tr>\n",
       "      <th>min</th>\n",
       "      <td>2014.000000</td>\n",
       "      <td>1.000000</td>\n",
       "      <td>65.000000</td>\n",
       "    </tr>\n",
       "    <tr>\n",
       "      <th>25%</th>\n",
       "      <td>2015.000000</td>\n",
       "      <td>4.000000</td>\n",
       "      <td>66.000000</td>\n",
       "    </tr>\n",
       "    <tr>\n",
       "      <th>50%</th>\n",
       "      <td>2016.000000</td>\n",
       "      <td>6.000000</td>\n",
       "      <td>69.000000</td>\n",
       "    </tr>\n",
       "    <tr>\n",
       "      <th>75%</th>\n",
       "      <td>2017.000000</td>\n",
       "      <td>9.000000</td>\n",
       "      <td>73.000000</td>\n",
       "    </tr>\n",
       "    <tr>\n",
       "      <th>max</th>\n",
       "      <td>2017.000000</td>\n",
       "      <td>12.000000</td>\n",
       "      <td>95.000000</td>\n",
       "    </tr>\n",
       "  </tbody>\n",
       "</table>\n",
       "</div>"
      ],
      "text/plain": [
       "                Year          Month            Age\n",
       "count  215391.000000  215391.000000  215391.000000\n",
       "mean     2015.523806       6.496604      70.443231\n",
       "std         1.126189       3.306446       5.274218\n",
       "min      2014.000000       1.000000      65.000000\n",
       "25%      2015.000000       4.000000      66.000000\n",
       "50%      2016.000000       6.000000      69.000000\n",
       "75%      2017.000000       9.000000      73.000000\n",
       "max      2017.000000      12.000000      95.000000"
      ]
     },
     "execution_count": 196,
     "metadata": {},
     "output_type": "execute_result"
    }
   ],
   "source": [
    "senior_tickets.describe()"
   ]
  },
  {
   "cell_type": "code",
   "execution_count": 210,
   "metadata": {
    "collapsed": true
   },
   "outputs": [],
   "source": [
    "top_10_senior_violations = senior_tickets.Violation.value_counts()[:10]"
   ]
  },
  {
   "cell_type": "code",
   "execution_count": 211,
   "metadata": {
    "collapsed": false
   },
   "outputs": [
    {
     "data": {
      "image/png": "[encoded data removed]",
      "text/plain": [
       "<matplotlib.figure.Figure at 0x1298ce994a8>"
      ]
     },
     "metadata": {},
     "output_type": "display_data"
    }
   ],
   "source": [
    "top_10_senior_violations.plot(kind=\"barh\", title=\"Senior Citizen Traffic Tickets\", width=0.7, color=\"#d5186fde\")\n",
    "for i, v in enumerate(top_10_senior_violations):\n",
    "    plt.text(v - 2200, i+.05, '{:,}'.format(v))"
   ]
  },
  {
   "cell_type": "code",
   "execution_count": 191,
   "metadata": {
    "collapsed": false
   },
   "outputs": [
    {
     "data": {
      "text/plain": [
       "<matplotlib.text.Text at 0x1298c748630>"
      ]
     },
     "execution_count": 191,
     "metadata": {},
     "output_type": "execute_result"
    },
    {
     "data": {
      "image/png": "[encoded data removed]",
      "text/plain": [
       "<matplotlib.figure.Figure at 0x12987188240>"
      ]
     },
     "metadata": {},
     "output_type": "display_data"
    }
   ],
   "source": [
    "senior_tickets.State.value_counts()[:10].plot(kind=\"barh\", title=\"Senior Citizen Traffic Tickets\", width=0.7, color=\"#d5186fde\")\n",
    "for i, v in enumerate(senior_tickets.State.value_counts()[:10]):\n",
    "    plt.text(0, i+.05, '{:,}'.format(v))\n",
    "\n",
    "plt.text(senior_tickets.State.value_counts()[0] - 16000, 0+.05, '{:,}'.format(senior_tickets.State.value_counts()[0]))"
   ]
  },
  {
   "cell_type": "markdown",
   "metadata": {},
   "source": [
    "#### Senior-citizens in New York"
   ]
  },
  {
   "cell_type": "code",
   "execution_count": 188,
   "metadata": {
    "collapsed": false
   },
   "outputs": [
    {
     "name": "stdout",
     "output_type": "stream",
     "text": [
      "Total Senior Tickets: 215,391 \n",
      "     \r",
      "Total NY Senior Tickets: 186,142 \n",
      "     \r",
      "Senior Tickets Outside NY: 29,249 \n",
      "\n",
      "86.42% of tickets issued to senior-citizens in the United States come from New York.\n"
     ]
    }
   ],
   "source": [
    "total_senior_tickets = len(senior_tickets)\n",
    "total_ny_senior_tickets = senior_tickets.State.value_counts()['NEW YORK']\n",
    "\n",
    "print(\"Total Senior Tickets: {0:,} \\n \\\n",
    "    \\rTotal NY Senior Tickets: {1:,} \\n \\\n",
    "    \\rSenior Tickets Outside NY: {2:,} \\n\".format(\n",
    "    total_senior_tickets,\n",
    "    total_ny_senior_tickets,\n",
    "    total_senior_tickets - total_ny_senior_tickets\n",
    "))\n",
    "\n",
    "print(\"{0}% of tickets issued to senior-citizens in the United States come from New York.\".format(\n",
    "    round(total_ny_senior_tickets / total_senior_tickets * 100, 2)\n",
    "))"
   ]
  },
  {
   "cell_type": "code",
   "execution_count": 123,
   "metadata": {
    "collapsed": false
   },
   "outputs": [
    {
     "data": {
      "text/plain": [
       "SPEED IN ZONE                        20814\n",
       "DISOBEYED TRAFFIC DEVICE             16601\n",
       "UNINSPECTED MOTOR VEHICLE            10666\n",
       "OPERATING MV MOBILE PHONE             8405\n",
       "SPEED OVER 55 ZONE                    8216\n",
       "FLD TO STOP AT STOP SIGN              7653\n",
       "NO LAP/SHOULDER HARNESS OR DJ VIO     6645\n",
       "NO SEAT BELT ADULT                    6608\n",
       "INADEQUATE OR NO STOP LAMPS           5351\n",
       "SPEED IN ZONE 11-30                   4703\n",
       "Name: Violation, dtype: int64"
      ]
     },
     "execution_count": 123,
     "metadata": {},
     "output_type": "execute_result"
    }
   ],
   "source": [
    "senior_tickets[senior_tickets.State == 'NEW YORK'].Violation.value_counts()[:10]"
   ]
  },
  {
   "cell_type": "code",
   "execution_count": 136,
   "metadata": {
    "collapsed": false
   },
   "outputs": [
    {
     "data": {
      "text/plain": [
       "<matplotlib.axes._subplots.AxesSubplot at 0x12987ea5cf8>"
      ]
     },
     "execution_count": 136,
     "metadata": {},
     "output_type": "execute_result"
    },
    {
     "data": {
      "image/png": "[encoded data removed]",
      "text/plain": [
       "<matplotlib.figure.Figure at 0x12987e7d7f0>"
      ]
     },
     "metadata": {},
     "output_type": "display_data"
    }
   ],
   "source": [
    "senior_tickets[senior_tickets.State == 'NEW YORK'] \\\n",
    "    .Violation \\\n",
    "    .value_counts()[:10] \\\n",
    "    .plot(kind=\"barh\", title=\"NY State Senior Citizen Traffic Tickets\", color=\"#d5186fde\")"
   ]
  },
  {
   "cell_type": "code",
   "execution_count": null,
   "metadata": {
    "collapsed": true
   },
   "outputs": [],
   "source": []
  },
  {
   "cell_type": "code",
   "execution_count": null,
   "metadata": {
    "collapsed": true
   },
   "outputs": [],
   "source": []
  },
  {
   "cell_type": "code",
   "execution_count": null,
   "metadata": {
    "collapsed": true
   },
   "outputs": [],
   "source": []
  }
 ],
 "metadata": {
  "kernelspec": {
   "display_name": "Python 3",
   "language": "python",
   "name": "python3"
  },
  "language_info": {
   "codemirror_mode": {
    "name": "ipython",
    "version": 3
   },
   "file_extension": ".py",
   "mimetype": "text/x-python",
   "name": "python",
   "nbconvert_exporter": "python",
   "pygments_lexer": "ipython3",
   "version": "3.6.0"
  }
 },
 "nbformat": 4,
 "nbformat_minor": 2
}
